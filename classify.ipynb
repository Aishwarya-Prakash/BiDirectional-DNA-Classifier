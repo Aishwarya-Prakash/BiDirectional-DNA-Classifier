{
    "cells": [
        {
            "cell_type": "markdown",
            "source": [
                "## Train and Validate"
            ],
            "metadata": {}
        },
        {
            "cell_type": "code",
            "execution_count": 1,
            "source": [
                "import tensorflow as tf\n",
                "from tensorflow import keras\n",
                "from tensorflow.keras import Sequential\n",
                "from tensorflow.keras.layers import Dense, Dropout, LSTM, Embedding, Activation, Lambda, Bidirectional\n",
                "from tensorflow.keras.preprocessing.sequence import pad_sequences\n",
                "from sklearn.model_selection import train_test_split\n",
                "import numpy as np\n",
                "import gc\n",
                "import pandas as pd"
            ],
            "outputs": [],
            "metadata": {}
        },
        {
            "cell_type": "code",
            "execution_count": null,
            "source": [
                "df = pd.read_csv(\"dna.csv\")"
            ],
            "outputs": [],
            "metadata": {}
        },
        {
            "cell_type": "code",
            "execution_count": null,
            "source": [
                "def letter_to_index(letter):\n",
                "    _alphabet = 'ATGC'\n",
                "    return next((i for i, _letter in enumerate(_alphabet) if _letter == letter), None)"
            ],
            "outputs": [],
            "metadata": {}
        },
        {
            "cell_type": "code",
            "execution_count": 7,
            "source": [
                "test_split = 0.1\n",
                "maxlen = 150\n",
                "df['sequence'] = df['sequence'].apply(lambda x: [int(letter_to_index(e)) for e in x])\n",
                "df = df.reindex(np.random.permutation(df.index))\n",
                "train_size = int(len(df) * (1 - test_split))\n",
                "X_train = df['sequence'].values[:train_size]\n",
                "y_train = np.array(df['target'].values[:train_size])\n",
                "X_test = np.array(df['sequence'].values[train_size:])\n",
                "y_test = np.array(df['target'].values[train_size:])\n",
                "print('Average train sequence length: {}'.format(np.mean(list(map(len, X_train)), dtype=int)))\n",
                "print('Average test sequence length: {}'.format(np.mean(list(map(len, X_test)), dtype=int)))\n",
                "X_train, y_train, X_test, y_test = pad_sequences(X_train, maxlen=maxlen), y_train, pad_sequences(X_test, maxlen=maxlen), y_test"
            ],
            "outputs": [
                {
                    "output_type": "stream",
                    "name": "stdout",
                    "text": [
                        "Average train sequence length: 149\n",
                        "Average test sequence length: 149\n"
                    ]
                }
            ],
            "metadata": {}
        },
        {
            "cell_type": "code",
            "execution_count": 8,
            "source": [
                "model = Sequential()\n",
                "model.add(Embedding(input_dim = 4, output_dim = 50, input_length = X_train.shape[1], name='embedding_layer'))\n",
                "model.add(Bidirectional(LSTM(62, return_sequences=True)))\n",
                "model.add(Dropout(0.2))\n",
                "model.add(Bidirectional(LSTM(62)))\n",
                "model.add(Dropout(0.2))\n",
                "model.add(Dense(1, activation='sigmoid'))\n",
                "model.compile('adam', 'binary_crossentropy', metrics=['accuracy'])"
            ],
            "outputs": [],
            "metadata": {}
        },
        {
            "cell_type": "code",
            "execution_count": 9,
            "source": [
                "model.fit(X_train, y_train, epochs=100)"
            ],
            "outputs": [
                {
                    "output_type": "stream",
                    "name": "stdout",
                    "text": [
                        "Train on 20465 samples\n",
                        "Epoch 1/100\n",
                        "20465/20465 [==============================] - 562s 27ms/sample - loss: 0.6437 - accuracy: 0.6245\n",
                        "Epoch 2/100\n",
                        "20465/20465 [==============================] - 573s 28ms/sample - loss: 0.6147 - accuracy: 0.6734\n",
                        "Epoch 3/100\n",
                        "20465/20465 [==============================] - 572s 28ms/sample - loss: 0.5987 - accuracy: 0.6828\n",
                        "Epoch 4/100\n",
                        "20465/20465 [==============================] - 607s 30ms/sample - loss: 0.6179 - accuracy: 0.6670\n",
                        "Epoch 5/100\n",
                        "20465/20465 [==============================] - 584s 29ms/sample - loss: 0.5844 - accuracy: 0.7034\n",
                        "Epoch 6/100\n",
                        "20465/20465 [==============================] - 583s 28ms/sample - loss: 0.5799 - accuracy: 0.7082\n",
                        "Epoch 7/100\n",
                        "20465/20465 [==============================] - 572s 28ms/sample - loss: 0.5751 - accuracy: 0.7119\n",
                        "Epoch 8/100\n",
                        "20465/20465 [==============================] - 582s 28ms/sample - loss: 0.5733 - accuracy: 0.7117\n",
                        "Epoch 9/100\n",
                        "20465/20465 [==============================] - 608s 30ms/sample - loss: 0.5662 - accuracy: 0.7150\n",
                        "Epoch 10/100\n",
                        "20465/20465 [==============================] - 617s 30ms/sample - loss: 0.5428 - accuracy: 0.7276\n",
                        "Epoch 11/100\n",
                        "20465/20465 [==============================] - 632s 31ms/sample - loss: 0.5235 - accuracy: 0.7368\n",
                        "Epoch 12/100\n",
                        "20465/20465 [==============================] - 624s 31ms/sample - loss: 0.5099 - accuracy: 0.7450\n",
                        "Epoch 13/100\n",
                        "20465/20465 [==============================] - 631s 31ms/sample - loss: 0.5026 - accuracy: 0.7527\n",
                        "Epoch 14/100\n",
                        "20465/20465 [==============================] - 565s 28ms/sample - loss: 0.4950 - accuracy: 0.7523\n",
                        "Epoch 15/100\n",
                        "20465/20465 [==============================] - 555s 27ms/sample - loss: 0.4866 - accuracy: 0.7582\n",
                        "Epoch 16/100\n",
                        "20465/20465 [==============================] - 553s 27ms/sample - loss: 0.4801 - accuracy: 0.7637\n",
                        "Epoch 17/100\n",
                        "20465/20465 [==============================] - 550s 27ms/sample - loss: 0.4787 - accuracy: 0.7617\n",
                        "Epoch 18/100\n",
                        "20465/20465 [==============================] - 560s 27ms/sample - loss: 0.4698 - accuracy: 0.7700\n",
                        "Epoch 19/100\n",
                        "20465/20465 [==============================] - 553s 27ms/sample - loss: 0.4641 - accuracy: 0.7742\n",
                        "Epoch 20/100\n",
                        "20465/20465 [==============================] - 549s 27ms/sample - loss: 0.4552 - accuracy: 0.7785\n",
                        "Epoch 21/100\n",
                        "20465/20465 [==============================] - 551s 27ms/sample - loss: 0.4479 - accuracy: 0.7837\n",
                        "Epoch 22/100\n",
                        "20465/20465 [==============================] - 561s 27ms/sample - loss: 0.4426 - accuracy: 0.7837\n",
                        "Epoch 23/100\n",
                        "20465/20465 [==============================] - 552s 27ms/sample - loss: 0.4343 - accuracy: 0.7892\n",
                        "Epoch 24/100\n",
                        "20465/20465 [==============================] - 550s 27ms/sample - loss: 0.4249 - accuracy: 0.7939\n",
                        "Epoch 25/100\n",
                        "16128/20465 [======================>.......] - ETA: 1:57 - loss: 0.4178 - accuracy: 0.8005"
                    ]
                }
            ],
            "metadata": {}
        },
        {
            "cell_type": "code",
            "execution_count": null,
            "source": [
                "model.save(\"SAVED.h5\")"
            ],
            "outputs": [
                {
                    "output_type": "error",
                    "ename": "Error",
                    "evalue": "Session cannot generate requests",
                    "traceback": [
                        "Error: Session cannot generate requests",
                        "at w.executeCodeCell (/Users/anilbattalahalli/.vscode/extensions/ms-toolsai.jupyter-2021.8.1236758218/out/client/extension.js:90:327199)",
                        "at w.execute (/Users/anilbattalahalli/.vscode/extensions/ms-toolsai.jupyter-2021.8.1236758218/out/client/extension.js:90:326520)",
                        "at w.start (/Users/anilbattalahalli/.vscode/extensions/ms-toolsai.jupyter-2021.8.1236758218/out/client/extension.js:90:322336)",
                        "at runMicrotasks (<anonymous>)",
                        "at processTicksAndRejections (internal/process/task_queues.js:93:5)",
                        "at async t.CellExecutionQueue.executeQueuedCells (/Users/anilbattalahalli/.vscode/extensions/ms-toolsai.jupyter-2021.8.1236758218/out/client/extension.js:90:336863)",
                        "at async t.CellExecutionQueue.start (/Users/anilbattalahalli/.vscode/extensions/ms-toolsai.jupyter-2021.8.1236758218/out/client/extension.js:90:336403)"
                    ]
                }
            ],
            "metadata": {}
        }
    ],
    "metadata": {
        "orig_nbformat": 4,
        "language_info": {
            "name": "python",
            "version": "3.6.13",
            "mimetype": "text/x-python",
            "codemirror_mode": {
                "name": "ipython",
                "version": 3
            },
            "pygments_lexer": "ipython3",
            "nbconvert_exporter": "python",
            "file_extension": ".py"
        },
        "kernelspec": {
            "name": "python3",
            "display_name": "Python 3.6.13 64-bit ('tensorflow': conda)"
        },
        "interpreter": {
            "hash": "d36e255458e31a29f527eb52fefea68899c70442c5f8ed7f862cc396cd8e7941"
        }
    },
    "nbformat": 4,
    "nbformat_minor": 2
}